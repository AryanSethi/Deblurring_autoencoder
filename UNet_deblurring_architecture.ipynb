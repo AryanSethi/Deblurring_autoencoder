{
 "cells": [
  {
   "cell_type": "code",
   "execution_count": 7,
   "metadata": {},
   "outputs": [],
   "source": [
    "import tensorflow as tf\n",
    "from tensorflow import keras\n",
    "import numpy as np\n",
    "from tensorflow.keras.models import Model\n",
    "from tensorflow.keras.callbacks import ModelCheckpoint\n",
    "import matplotlib.pyplot as plt\n",
    "from tensorflow.keras.layers import Conv2D, Input, Dense, Reshape, Conv2DTranspose,\\\n",
    "   Activation, BatchNormalization, ReLU, Concatenate\n",
    "from tensorflow.keras.optimizers import Adam\n",
    "from tensorflow.keras.metrics import categorical_crossentropy\n",
    "import cv2\n",
    "%matplotlib inline\n",
    "import os"
   ]
  },
  {
   "cell_type": "code",
   "execution_count": 8,
   "metadata": {},
   "outputs": [
    {
     "name": "stdout",
     "output_type": "stream",
     "text": [
      "GPUS:  1\n"
     ]
    }
   ],
   "source": [
    "devices=tf.config.experimental.list_physical_devices('GPU')\n",
    "print(\"GPUS: \", len(devices))\n",
    "tf.config.experimental.set_memory_growth(devices[0],True)"
   ]
  },
  {
   "cell_type": "code",
   "execution_count": 9,
   "metadata": {},
   "outputs": [],
   "source": [
    "def load_data():\n",
    "    trn_x_names=os.listdir('data/train_x')\n",
    "    trn_y_names=os.listdir('data/train_y')\n",
    "    \n",
    "    trn_x_list=[]\n",
    "    trn_y_list=[]\n",
    "    \n",
    "    for image in trn_x_names[0:]:\n",
    "        img=cv2.imread('data/train_x/%s'%image)\n",
    "        img=cv2.cvtColor(img,cv2.COLOR_BGR2RGB)\n",
    "        trn_x_list.append(img)\n",
    "        \n",
    "    for image in trn_y_names[0:]:\n",
    "        img=cv2.imread('data/train_y/%s'%image)\n",
    "        img=cv2.cvtColor(img,cv2.COLOR_BGR2RGB)\n",
    "        trn_y_list.append(img)\n",
    "        \n",
    "    x_train= np.array(trn_x_list)\n",
    "    y_train= np.array(trn_y_list)\n",
    "    return x_train,y_train\n",
    "\n",
    "\n",
    "def plotImages(images_arr):\n",
    "  fig,axes = plt.subplots(1,10,figsize(20,20))\n",
    "  axes=axes.flatten()\n",
    "  for img,ax in zip(images_arr,axes):\n",
    "    ax.imshow(img)\n",
    "    ax.axis('off')\n",
    "  plt.tight_layout()\n",
    "  plt.show()"
   ]
  },
  {
   "cell_type": "code",
   "execution_count": null,
   "metadata": {},
   "outputs": [],
   "source": []
  },
  {
   "cell_type": "code",
   "execution_count": null,
   "metadata": {},
   "outputs": [],
   "source": [
    "x_train,y_train=load_data()"
   ]
  },
  {
   "cell_type": "code",
   "execution_count": null,
   "metadata": {},
   "outputs": [],
   "source": [
    "x_train = x_train.astype('float32') / 255.\n",
    "y_train = y_train.astype('float32') / 255."
   ]
  },
  {
   "cell_type": "code",
   "execution_count": null,
   "metadata": {},
   "outputs": [],
   "source": [
    "def conv_operation(x, filters, kernel_size, strides=1):\n",
    "   x = Conv2D(filters=filters,\n",
    "              kernel_size=kernel_size,\n",
    "              strides=strides,\n",
    "              padding='same')(x)\n",
    "   x = BatchNormalization()(x)\n",
    "   x = ReLU()(x)\n",
    "   return x\n",
    "\n",
    "def conv_transpose_operation(x, filters, kernel_size,strides=1):\n",
    "   x = Conv2DTranspose(filters=filters,\n",
    "                       kernel_size=kernel_size,\n",
    "                       strides=strides,\n",
    "                       padding='same')(x)\n",
    "   x = BatchNormalization()(x)\n",
    "   x = ReLU()(x)\n",
    "   return x"
   ]
  }
 ],
 "metadata": {
  "kernelspec": {
   "display_name": "Python 3",
   "language": "python",
   "name": "python3"
  },
  "language_info": {
   "codemirror_mode": {
    "name": "ipython",
    "version": 3
   },
   "file_extension": ".py",
   "mimetype": "text/x-python",
   "name": "python",
   "nbconvert_exporter": "python",
   "pygments_lexer": "ipython3",
   "version": "3.7.3"
  }
 },
 "nbformat": 4,
 "nbformat_minor": 4
}
