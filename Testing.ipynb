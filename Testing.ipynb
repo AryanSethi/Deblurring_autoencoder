{
 "cells": [
  {
   "cell_type": "code",
   "execution_count": 6,
   "metadata": {},
   "outputs": [],
   "source": [
    "from tensorflow import keras\n",
    "from tensorflow.keras.utils import Sequence\n",
    "import tensorflow as tf\n",
    "import os\n",
    "import numpy as np\n",
    "import cv2\n",
    "from matplotlib import pyplot as plt"
   ]
  },
  {
   "cell_type": "code",
   "execution_count": null,
   "metadata": {},
   "outputs": [],
   "source": [
    "devices=tf.config.experimental.list_physical_devices('GPU')\n",
    "print(\"GPUS: \", len(devices))\n",
    "tf.config.experimental.set_memory_growth(devices[0],True)"
   ]
  },
  {
   "cell_type": "code",
   "execution_count": null,
   "metadata": {},
   "outputs": [],
   "source": [
    "model=keras.models.load_model('best_models/try4')"
   ]
  },
  {
   "cell_type": "code",
   "execution_count": 4,
   "metadata": {},
   "outputs": [],
   "source": [
    "class DataGenerator(Sequence):\n",
    "\n",
    "  def __init__(self, base_dir,base_dir2, output_size, shuffle=False, batch_size=10):\n",
    "    self.base_dir = base_dir\n",
    "    self.base_dir2 = base_dir2\n",
    "    self.output_size = output_size\n",
    "    self.shuffle = shuffle\n",
    "    self.batch_size = batch_size\n",
    "    self.all_x = os.listdir(base_dir)\n",
    "    self.all_y = os.listdir(base_dir2)\n",
    "    self.on_epoch_end()\n",
    "\n",
    "  def on_epoch_end(self):\n",
    "    self.indices = np.arange(len(self.all_x))\n",
    "    if self.shuffle:\n",
    "      np.random.shuffle(self.indices)\n",
    "\n",
    "  def __len__(self):\n",
    "    return int(len(self.all_x) / self.batch_size)\n",
    "\n",
    "  def __getitem__(self, idx):\n",
    "    X = np.empty((self.batch_size, *self.output_size, 3))\n",
    "    Y = np.empty((self.batch_size, *self.output_size, 3))\n",
    "\n",
    "    indices = self.indices[idx*(self.batch_size): (idx+1)*(self.batch_size)]\n",
    "    \n",
    "\n",
    "    for i,j in enumerate(indices):\n",
    "      img_path = os.path.join(self.base_dir,self.all_x[j])\n",
    "      img_path2 = os.path.join(self.base_dir2,self.all_y[j])\n",
    "        \n",
    "      img  = cv2.imread(img_path)\n",
    "      img= cv2.resize(cv2.cvtColor(img,cv2.COLOR_BGR2RGB),self.output_size)\n",
    "      img2 = cv2.imread(img_path2)\n",
    "      img2= cv2.resize(cv2.cvtColor(img2,cv2.COLOR_BGR2RGB),self.output_size)\n",
    "#       print(img_path,img_path2)\n",
    "\n",
    "      X[i,] = img\n",
    "      Y[i,] = img2\n",
    "    X= X.astype('float32')/255\n",
    "    Y= Y.astype('float32')/255\n",
    "\n",
    "    return X, Y"
   ]
  },
  {
   "cell_type": "code",
   "execution_count": 5,
   "metadata": {},
   "outputs": [],
   "source": [
    "def plotImages(images_arr):\n",
    "  fig,axes = plt.subplots(1,10,figsize=(20,20))\n",
    "  axes=axes.flatten()\n",
    "  for img,ax in zip(images_arr,axes):\n",
    "    img=img*255\n",
    "    img=img.astype(np.uint8)\n",
    "    ax.imshow(img)\n",
    "    ax.axis('off')\n",
    "  plt.tight_layout()\n",
    "  plt.show()"
   ]
  },
  {
   "cell_type": "code",
   "execution_count": 6,
   "metadata": {},
   "outputs": [],
   "source": [
    "test  = DataGenerator('data/test_x/test_x','data/test_y/test_y',(128,128), batch_size=10, shuffle=False)"
   ]
  },
  {
   "cell_type": "code",
   "execution_count": null,
   "metadata": {},
   "outputs": [],
   "source": [
    "for i in range(20):\n",
    "    testx,testy= test[i]\n",
    "    prediction= model.predict(model.predict(testx))\n",
    "    plotImages(testx)\n",
    "    plotImages(prediction)\n",
    "    plotImages(testy)"
   ]
  },
  {
   "cell_type": "code",
   "execution_count": null,
   "metadata": {},
   "outputs": [],
   "source": [
    "testx,testy= test[2]\n",
    "prediction= model.predict(testy)\n",
    "cv2.imshow('deblurred',cv2.resize(prediction[4],(0,0),fx=3,fy=3))\n",
    "cv2.imshow('reallarge',cv2.resize(testy[4],(0,0),fx=3,fy=3))\n",
    "cv2.imshow('real small',cv2.resize(testy[4],(0,0),fx=3,fy=3))\n",
    "#cv2.imshow('blurred',cv2.resize(testx[4],(0,0),fx=3,fy=3))\n",
    "cv2.waitKey(0)\n",
    "cv2.destroyAllWindows()"
   ]
  },
  {
   "cell_type": "code",
   "execution_count": null,
   "metadata": {},
   "outputs": [],
   "source": []
  }
 ],
 "metadata": {
  "kernelspec": {
   "display_name": "Python 3",
   "language": "python",
   "name": "python3"
  },
  "language_info": {
   "codemirror_mode": {
    "name": "ipython",
    "version": 3
   },
   "file_extension": ".py",
   "mimetype": "text/x-python",
   "name": "python",
   "nbconvert_exporter": "python",
   "pygments_lexer": "ipython3",
   "version": "3.7.3"
  }
 },
 "nbformat": 4,
 "nbformat_minor": 4
}
