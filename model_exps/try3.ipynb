{
 "cells": [
  {
   "cell_type": "markdown",
   "metadata": {},
   "source": [
    "## TRY3-           ( FILTER NUMBERS STARTING FROM 64)\n",
    "\n",
    "# Batch Size- 64\n",
    "# Image Size- 128X128\n",
    "# 20 epochs\n",
    "# best loss: 0.0031\n",
    "\n",
    "# (*Commendable results either due to the increased image size or the increased filter size)\n",
    "            "
   ]
  },
  {
   "cell_type": "code",
   "execution_count": null,
   "metadata": {},
   "outputs": [],
   "source": [
    "import tensorflow as tf\n",
    "from tensorflow import keras\n",
    "import numpy as np\n",
    "from tensorflow.keras.models import Model\n",
    "from tensorflow.keras.callbacks import ModelCheckpoint,TensorBoard\n",
    "import matplotlib.pyplot as plt\n",
    "from tensorflow.keras.layers import Conv2D, Input, Dense, Reshape, Conv2DTranspose,\\\n",
    "    Activation, BatchNormalization, ReLU, Concatenate\n",
    "from tensorflow.keras.preprocessing.image import ImageDataGenerator\n",
    "from tensorflow.keras.optimizers import Adam\n",
    "import os\n",
    "import cv2\n",
    "import time\n",
    "from tensorflow.keras.utils import Sequence\n",
    "import datetime\n",
    "%matplotlib inline"
   ]
  },
  {
   "cell_type": "code",
   "execution_count": null,
   "metadata": {},
   "outputs": [],
   "source": [
    "devices=tf.config.experimental.list_physical_devices('GPU')\n",
    "print(\"GPUS: \", len(devices))\n",
    "tf.config.experimental.set_memory_growth(devices[0],True)"
   ]
  },
  {
   "cell_type": "code",
   "execution_count": null,
   "metadata": {},
   "outputs": [],
   "source": [
    "class DataGenerator(Sequence):\n",
    "\n",
    "  def __init__(self, base_dir,base_dir2, output_size, shuffle=False, batch_size=10):\n",
    "    self.base_dir = base_dir\n",
    "    self.base_dir2 = base_dir2\n",
    "    self.output_size = output_size\n",
    "    self.shuffle = shuffle\n",
    "    self.batch_size = batch_size\n",
    "    self.all_x = os.listdir(base_dir)\n",
    "    self.all_y = os.listdir(base_dir2)\n",
    "    self.on_epoch_end()\n",
    "\n",
    "  def on_epoch_end(self):\n",
    "    self.indices = np.arange(len(self.all_x))\n",
    "    if self.shuffle:\n",
    "      np.random.shuffle(self.indices)\n",
    "\n",
    "  def __len__(self):\n",
    "    return int(len(self.all_x) / self.batch_size)\n",
    "\n",
    "  def __getitem__(self, idx):\n",
    "    X = np.empty((self.batch_size, *self.output_size, 3))\n",
    "    Y = np.empty((self.batch_size, *self.output_size, 3))\n",
    "\n",
    "    indices = self.indices[idx*(self.batch_size): (idx+1)*(self.batch_size)]\n",
    "    \n",
    "\n",
    "    for i,j in enumerate(indices):\n",
    "      img_path = os.path.join(self.base_dir,self.all_x[j])\n",
    "      img_path2 = os.path.join(self.base_dir2,self.all_y[j])\n",
    "        \n",
    "      img  = cv2.imread(img_path)\n",
    "      img= cv2.resize(cv2.cvtColor(img,cv2.COLOR_BGR2RGB),self.output_size)\n",
    "      img2 = cv2.imread(img_path2)\n",
    "      img2= cv2.resize(cv2.cvtColor(img2,cv2.COLOR_BGR2RGB),self.output_size)\n",
    "#       print(img_path,img_path2)\n",
    "\n",
    "      X[i,] = img\n",
    "      Y[i,] = img2\n",
    "    X= X.astype('float32')/255\n",
    "    Y= Y.astype('float32')/255\n",
    "\n",
    "    return X, Y"
   ]
  },
  {
   "cell_type": "code",
   "execution_count": null,
   "metadata": {},
   "outputs": [],
   "source": [
    "def plotImages(images_arr):\n",
    "  fig,axes = plt.subplots(1,10,figsize=(20,20))\n",
    "  axes=axes.flatten()\n",
    "  for img,ax in zip(images_arr,axes):\n",
    "    img=img*255\n",
    "    img=img.astype(np.uint)\n",
    "    ax.imshow(img)\n",
    "    ax.axis('off')\n",
    "  plt.tight_layout()\n",
    "  plt.show()"
   ]
  },
  {
   "cell_type": "code",
   "execution_count": null,
   "metadata": {},
   "outputs": [],
   "source": [
    "train = DataGenerator('..\\data/train_x/train_x','..\\data/train_y/train_y',(128,128), batch_size=64, shuffle=False)\n",
    "test  = DataGenerator('..\\data/test_x/test_x','..\\data/test_y/test_y',(128,128), batch_size=64, shuffle=False)"
   ]
  },
  {
   "cell_type": "code",
   "execution_count": null,
   "metadata": {},
   "outputs": [],
   "source": [
    "xx,yy=train[4]\n",
    "plotImages(xx)\n",
    "plotImages(yy)"
   ]
  },
  {
   "cell_type": "code",
   "execution_count": null,
   "metadata": {},
   "outputs": [],
   "source": [
    "def conv_operation(x, filters, kernel_size, strides=2):\n",
    "   x = Conv2D(filters=filters,\n",
    "              kernel_size=kernel_size,\n",
    "              strides=strides,\n",
    "              padding='same')(x)\n",
    "   x = BatchNormalization()(x)\n",
    "   x = ReLU()(x)\n",
    "   return x\n",
    "\n",
    "def conv_transpose_operation(x, filters, kernel_size):\n",
    "   x = Conv2DTranspose(filters=filters,\n",
    "                       kernel_size=kernel_size,\n",
    "                       strides=2,\n",
    "                       padding='same')(x)\n",
    "   x = BatchNormalization()(x)\n",
    "   x = ReLU()(x)\n",
    "   return x\n",
    "\n",
    "def deblurring_autoencoder():\n",
    "   dae_inputs = Input(shape=(128,128,3), name='dae_input')\n",
    "   conv_block1 = conv_operation(dae_inputs, 64, 3)\n",
    "   conv_block2 = conv_operation(conv_block1, 128, 3)\n",
    "   conv_block3 = conv_operation(conv_block2, 256, 3)\n",
    "   conv_block4 = conv_operation(conv_block3, 512, 3)\n",
    "   \n",
    "   conv_block5 = conv_operation(conv_block4, 512, 3, 1)\n",
    "\n",
    "   deconv_block1 = conv_transpose_operation(conv_block5, 512,3)\n",
    "   merge1 = Concatenate()([conv_block3,deconv_block1])\n",
    "   deconv_block2 = conv_transpose_operation(merge1, 256, 3)\n",
    "   merge2 = Concatenate()([deconv_block2, conv_block2])\n",
    "   deconv_block3 = conv_transpose_operation(merge2, 128, 3)\n",
    "   merge3 = Concatenate()([deconv_block3, conv_block1])\n",
    "   deconv_block4 = conv_transpose_operation(merge3, 64, 3)\n",
    "\n",
    "   final_deconv = Conv2DTranspose(filters=3, kernel_size=3,padding='same')(deconv_block4)\n",
    "\n",
    "#    dae_outputs = Activation('sigmoid', name='dae_output')(final_deconv)\n",
    "   \n",
    "   return Model(dae_inputs, final_deconv, name='dae')"
   ]
  },
  {
   "cell_type": "code",
   "execution_count": null,
   "metadata": {},
   "outputs": [],
   "source": [
    "model= deblurring_autoencoder()"
   ]
  },
  {
   "cell_type": "code",
   "execution_count": null,
   "metadata": {},
   "outputs": [],
   "source": [
    "model.summary()"
   ]
  },
  {
   "cell_type": "code",
   "execution_count": null,
   "metadata": {},
   "outputs": [],
   "source": [
    "opt=Adam(learning_rate=0.0001)\n",
    "model.compile(optimizer=opt, loss=\"mse\", metrics=[\"mae\"])"
   ]
  },
  {
   "cell_type": "code",
   "execution_count": 5,
   "metadata": {},
   "outputs": [],
   "source": [
    "callbacks=[\n",
    "    ModelCheckpoint('deblur.h5',verbose=1,save_best_only=True,save_weights_only=True),   \n",
    "]\n"
   ]
  },
  {
   "cell_type": "code",
   "execution_count": 6,
   "metadata": {},
   "outputs": [
    {
     "ename": "NameError",
     "evalue": "name 'model' is not defined",
     "output_type": "error",
     "traceback": [
      "\u001b[1;31m---------------------------------------------------------------------------\u001b[0m",
      "\u001b[1;31mNameError\u001b[0m                                 Traceback (most recent call last)",
      "\u001b[1;32m<ipython-input-6-66c51c3f5586>\u001b[0m in \u001b[0;36m<module>\u001b[1;34m\u001b[0m\n\u001b[1;32m----> 1\u001b[1;33m model.fit(\n\u001b[0m\u001b[0;32m      2\u001b[0m     \u001b[0mtrain\u001b[0m\u001b[1;33m,\u001b[0m\u001b[1;33m\u001b[0m\u001b[1;33m\u001b[0m\u001b[0m\n\u001b[0;32m      3\u001b[0m     \u001b[0mepochs\u001b[0m\u001b[1;33m=\u001b[0m\u001b[1;36m20\u001b[0m\u001b[1;33m,\u001b[0m\u001b[1;33m\u001b[0m\u001b[1;33m\u001b[0m\u001b[0m\n\u001b[0;32m      4\u001b[0m     \u001b[0mverbose\u001b[0m\u001b[1;33m=\u001b[0m\u001b[1;36m1\u001b[0m\u001b[1;33m,\u001b[0m\u001b[1;33m\u001b[0m\u001b[1;33m\u001b[0m\u001b[0m\n\u001b[0;32m      5\u001b[0m     \u001b[0mcallbacks\u001b[0m\u001b[1;33m=\u001b[0m\u001b[1;33m[\u001b[0m\u001b[0mm_chk\u001b[0m\u001b[1;33m,\u001b[0m\u001b[0mt_brd\u001b[0m\u001b[1;33m]\u001b[0m\u001b[1;33m\u001b[0m\u001b[1;33m\u001b[0m\u001b[0m\n",
      "\u001b[1;31mNameError\u001b[0m: name 'model' is not defined"
     ]
    }
   ],
   "source": [
    "model.fit(\n",
    "    train,\n",
    "    epochs=20,\n",
    "    verbose=1,\n",
    "    callbacks=callbacks\n",
    ")"
   ]
  },
  {
   "cell_type": "code",
   "execution_count": null,
   "metadata": {},
   "outputs": [],
   "source": [
    "keras.models.save_model(\n",
    "    model,'best_model'\n",
    ")"
   ]
  },
  {
   "cell_type": "code",
   "execution_count": null,
   "metadata": {},
   "outputs": [],
   "source": [
    "xx,yy= test[4]  #randomly chosen\n",
    "plotImages(xx)\n",
    "plotImages(yy)"
   ]
  },
  {
   "cell_type": "code",
   "execution_count": null,
   "metadata": {},
   "outputs": [],
   "source": [
    "xx,yy=train[6]\n",
    "\n",
    "plotImages(xx)\n",
    "plotImages(yy)"
   ]
  },
  {
   "cell_type": "code",
   "execution_count": null,
   "metadata": {},
   "outputs": [],
   "source": [
    "model=keras.models.load_model('best_model/')"
   ]
  },
  {
   "cell_type": "code",
   "execution_count": null,
   "metadata": {},
   "outputs": [],
   "source": [
    "prediction= model.predict(xx)"
   ]
  },
  {
   "cell_type": "code",
   "execution_count": null,
   "metadata": {},
   "outputs": [],
   "source": [
    "plotImages(prediction)\n",
    "plotImages(xx)\n",
    "plotImages(yy)"
   ]
  },
  {
   "cell_type": "code",
   "execution_count": null,
   "metadata": {},
   "outputs": [],
   "source": []
  }
 ],
 "metadata": {
  "kernelspec": {
   "display_name": "Python 3",
   "language": "python",
   "name": "python3"
  },
  "language_info": {
   "codemirror_mode": {
    "name": "ipython",
    "version": 3
   },
   "file_extension": ".py",
   "mimetype": "text/x-python",
   "name": "python",
   "nbconvert_exporter": "python",
   "pygments_lexer": "ipython3",
   "version": "3.7.3"
  }
 },
 "nbformat": 4,
 "nbformat_minor": 4
}
